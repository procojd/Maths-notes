{
 "cells": [
  {
   "cell_type": "markdown",
   "id": "bc7ce245",
   "metadata": {},
   "source": [
    "# Multivariable Calculus\n",
    "\n",
    "This notebook introduces the basic concepts of **functions of two or more variables**, including limits, continuity, differentiability, expansions, and maxima/minima.\n",
    "\n",
    "We assume no prior knowledge, starting from scratch."
   ]
  },
  {
   "cell_type": "markdown",
   "id": "176ec64a",
   "metadata": {},
   "source": [
    "## 1. Functions of Two Variables\n",
    "\n",
    "- A **function of two variables** is written as:  \n",
    "  \\[ z = f(x,y) \\]\n",
    "- Here, input is a pair \\((x,y)\\) and output is a single number.\n",
    "\n",
    "### Example:\n",
    "\\[ f(x,y) = x^2 + y^2 \\]\n",
    "- Input (2,3) → Output: \\( f(2,3) = 2^2 + 3^2 = 13 \\)\n",
    "\n",
    "Geometrically, this represents a **surface** in 3D space."
   ]
  },
  {
   "cell_type": "markdown",
   "id": "aa34f3e3",
   "metadata": {},
   "source": [
    "## 2. Limits and Continuity of Functions of Two Variables\n",
    "\n",
    "- The **limit** of \\( f(x,y) \\) as \\((x,y) \\to (a,b)\\) means:\n",
    "  The value of \\( f(x,y) \\) gets arbitrarily close to \\( L \\) when \\((x,y)\\) approaches \\((a,b)\\) from *any direction*.\n",
    "\n",
    "### Formal Definition:\n",
    "\\[ \\lim_{(x,y) \\to (a,b)} f(x,y) = L \\]\n",
    "\n",
    "### Example:\n",
    "\\[ f(x,y) = x^2 + y^2, \\quad \\lim_{(x,y)\\to(0,0)} f(x,y) = 0 \\]\n",
    "\n",
    "### Continuity:\n",
    "A function is **continuous at (a,b)** if:\n",
    "1. \\( f(a,b) \\) is defined\n",
    "2. The limit exists\n",
    "3. Limit equals \\( f(a,b) \\)"
   ]
  },
  {
   "cell_type": "markdown",
   "id": "813c126a",
   "metadata": {},
   "source": [
    "## 3. Differentiability of Functions of Two Variables\n",
    "\n",
    "- For functions of two variables, we define **partial derivatives**:\n",
    "\n",
    "\\[ f_x(x,y) = \\frac{\\partial f}{\\partial x}, \\quad f_y(x,y) = \\frac{\\partial f}{\\partial y} \\]\n",
    "\n",
    "### Example:\n",
    "If \\( f(x,y) = x^2y + 3y \\):\n",
    "- \\( f_x = 2xy \\)\n",
    "- \\( f_y = x^2 + 3 \\)\n",
    "\n",
    "A function is **differentiable** if it has partial derivatives that are continuous near the point."
   ]
  },
  {
   "cell_type": "markdown",
   "id": "0bbcc4b8",
   "metadata": {},
   "source": [
    "## 4. Expansions of Functions of Two Variables\n",
    "\n",
    "- Similar to Taylor expansion in one variable.\n",
    "- Around \\((a,b)\\):\n",
    "\n",
    "\\[ f(x,y) \\approx f(a,b) + f_x(a,b)(x-a) + f_y(a,b)(y-b) + \\tfrac{1}{2}(f_{xx}(a,b)(x-a)^2 + 2f_{xy}(a,b)(x-a)(y-b) + f_{yy}(a,b)(y-b)^2) \\]\n",
    "\n",
    "### Example:\n",
    "If \\( f(x,y) = x^2 + y^2 \\) around (0,0):\n",
    "\\[ f(x,y) \\approx x^2 + y^2 \\] (exact here)."
   ]
  },
  {
   "cell_type": "markdown",
   "id": "272a2033",
   "metadata": {},
   "source": [
    "## 5. Maxima and Minima of Functions of Two Variables\n",
    "\n",
    "We find **critical points** where:\n",
    "\\[ f_x = 0, \\quad f_y = 0 \\]\n",
    "\n",
    "Then use the **second derivative test**:\n",
    "\\[ D = f_{xx} f_{yy} - (f_{xy})^2 \\]\n",
    "\n",
    "- If \\( D > 0 \\) and \\( f_{xx} > 0 \\) → Local **minimum**\n",
    "- If \\( D > 0 \\) and \\( f_{xx} < 0 \\) → Local **maximum**\n",
    "- If \\( D < 0 \\) → **Saddle point**\n",
    "- If \\( D = 0 \\) → Test fails (need other methods)\n",
    "\n",
    "### Example:\n",
    "For \\( f(x,y) = x^2 + y^2 \\):\n",
    "- \\( f_x = 2x, f_y = 2y \\) → Critical point at (0,0)\n",
    "- \\( f_{xx} = 2, f_{yy} = 2, f_{xy} = 0 \\)\n",
    "- \\( D = 2*2 - 0 = 4 > 0, f_{xx} > 0 \\) → Minimum at (0,0)."
   ]
  },
  {
   "cell_type": "markdown",
   "id": "1f50f91f",
   "metadata": {},
   "source": [
    "## 6. Functions of Several Independent Variables\n",
    "\n",
    "- Generalization to \\( f(x_1, x_2, ..., x_n) \\).\n",
    "- Used in **optimization problems**, physics, economics, machine learning.\n",
    "\n",
    "### Example:\n",
    "Production function in economics:\n",
    "\\[ Q = f(L,K) \\]\n",
    "where L = labor, K = capital."
   ]
  },
  {
   "cell_type": "markdown",
   "id": "f212a49f",
   "metadata": {},
   "source": [
    "## 7. Applications\n",
    "\n",
    "- Engineering: Heat distribution, stress analysis.\n",
    "- Physics: Potential energy surfaces.\n",
    "- Economics: Profit/cost functions with multiple factors.\n",
    "- Machine Learning: Loss functions depending on many parameters.\n",
    "\n",
    "---\n",
    "👉 With these tools, you can handle real-world problems involving multiple variables."
   ]
  }
 ],
 "metadata": {},
 "nbformat": 4,
 "nbformat_minor": 5
}