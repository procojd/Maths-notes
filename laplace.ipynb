{
 "cells": [
  {
   "cell_type": "markdown",
   "metadata": {},
   "source": [
    "# 📘 Laplace and Inverse Laplace Transforms\n",
    "\n",
    "This notebook contains **brief notes + solved examples** on Laplace and Inverse Laplace transforms (B.Sc. level).\n",
    "\n",
    "---\n",
    "## 🔹 Laplace Transform\n",
    "The Laplace Transform of a function $f(t)$ (for $t \\geq 0$) is defined as:\n",
    "\n",
    "$$\n",
    "L\\{f(t)\\} = F(s) = \\int_{0}^{\\infty} e^{-st} f(t) dt, \\quad s > 0\n",
    "$$\n",
    "\n",
    "It converts a function of time $t$ into a function of complex frequency $s$.\n",
    "\n",
    "---\n",
    "## ✨ Properties:\n",
    "- **Linearity**: $L\\{af(t)+bg(t)\\} = aF(s) + bG(s)$\n",
    "- **First Shifting Theorem**: $L\\{e^{at}f(t)\\} = F(s-a)$\n",
    "- **Differentiation**: $L\\{f'(t)\\} = sF(s) - f(0)$\n",
    "- **Integration**: $L\\{\\int_0^t f(u)du\\} = \\frac{F(s)}{s}$\n",
    "\n",
    "---\n",
    "## ✅ Examples of Laplace Transform\n"
   ]
  },
  {
   "cell_type": "markdown",
   "metadata": {},
   "source": [
    "### Example 1:\n",
    "Find $L\\{1\\}$\n",
    "\n",
    "$$\n",
    "L\\{1\\} = \\int_0^{\\infty} e^{-st} dt = \\left[ -\\frac{1}{s} e^{-st} \\right]_0^{\\infty} = \\frac{1}{s}, \\; s>0\n",
    "$$"
   ]
  },
  {
   "cell_type": "markdown",
   "metadata": {},
   "source": [
    "### Example 2:\n",
    "Find $L\\{t\\}$\n",
    "\n",
    "$$\n",
    "L\\{t\\} = \\int_0^{\\infty} t e^{-st} dt = \\frac{1}{s^2}\n",
    "$$"
   ]
  },
  {
   "cell_type": "markdown",
   "metadata": {},
   "source": [
    "### Example 3:\n",
    "Find $L\\{e^{at}\\}$\n",
    "\n",
    "$$\n",
    "L\\{e^{at}\\} = \\int_0^{\\infty} e^{-(s-a)t} dt = \\frac{1}{s-a}, \\quad s>a\n",
    "$$"
   ]
  },
  {
   "cell_type": "markdown",
   "metadata": {},
   "source": [
    "### Example 4:\n",
    "Find $L\\{\\sin(at)\\}$\n",
    "\n",
    "$$\n",
    "L\\{\\sin(at)\\} = \\int_0^{\\infty} e^{-st} \\sin(at) dt = \\frac{a}{s^2+a^2}\n",
    "$$"
   ]
  },
  {
   "cell_type": "markdown",
   "metadata": {},
   "source": [
    "### Example 5:\n",
    "Find $L\\{\\cos(at)\\}$\n",
    "\n",
    "$$\n",
    "L\\{\\cos(at)\\} = \\int_0^{\\infty} e^{-st} \\cos(at) dt = \\frac{s}{s^2+a^2}\n",
    "$$"
   ]
  },
  {
   "cell_type": "markdown",
   "metadata": {},
   "source": [
    "---\n",
    "## 🔹 Inverse Laplace Transform\n",
    "The **Inverse Laplace Transform** is defined as:\n",
    "\n",
    "$$\n",
    "L^{-1}\\{F(s)\\} = f(t)\n",
    "$$\n",
    "\n",
    "It converts back from $F(s)$ (frequency domain) to $f(t)$ (time domain).\n",
    "\n",
    "---\n",
    "## ✅ Examples of Inverse Laplace Transform\n"
   ]
  },
  {
   "cell_type": "markdown",
   "metadata": {},
   "source": [
    "### Example 1:\n",
    "Find $L^{-1}\\left\\{ \\frac{1}{s} \\right\\}$\n",
    "\n",
    "$$\n",
    "L^{-1}\\{\\frac{1}{s}\\} = 1\n",
    "$$"
   ]
  },
  {
   "cell_type": "markdown",
   "metadata": {},
   "source": [
    "### Example 2:\n",
    "Find $L^{-1}\\left\\{ \\frac{1}{s^2} \\right\\}$\n",
    "\n",
    "$$\n",
    "L^{-1}\\{\\frac{1}{s^2}\\} = t\n",
    "$$"
   ]
  },
  {
   "cell_type": "markdown",
   "metadata": {},
   "source": [
    "### Example 3:\n",
    "Find $L^{-1}\\left\\{ \\frac{1}{s-a} \\right\\}$\n",
    "\n",
    "$$\n",
    "L^{-1}\\{\\frac{1}{s-a}\\} = e^{at}\n",
    "$$"
   ]
  },
  {
   "cell_type": "markdown",
   "metadata": {},
   "source": [
    "### Example 4:\n",
    "Find $L^{-1}\\left\\{ \\frac{a}{s^2+a^2} \\right\\}$\n",
    "\n",
    "$$\n",
    "L^{-1}\\{\\frac{a}{s^2+a^2}\\} = \\sin(at)\n",
    "$$"
   ]
  },
  {
   "cell_type": "markdown",
   "metadata": {},
   "source": [
    "### Example 5:\n",
    "Find $L^{-1}\\left\\{ \\frac{s}{s^2+a^2} \\right\\}$\n",
    "\n",
    "$$\n",
    "L^{-1}\\{\\frac{s}{s^2+a^2}\\} = \\cos(at)\n",
    "$$"
   ]
  }
 ],
 "metadata": {
  "kernelspec": {
   "display_name": "Python 3",
   "language": "python",
   "name": "python3"
  },
  "language_info": {
   "name": "python",
   "version": "3.11"
  }
 },
 "nbformat": 4,
 "nbformat_minor": 5
}
